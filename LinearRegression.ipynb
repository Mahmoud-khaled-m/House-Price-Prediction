{
  "nbformat": 4,
  "nbformat_minor": 0,
  "metadata": {
    "colab": {
      "name": "House Price Prediction.ipynb",
      "provenance": []
    },
    "kernelspec": {
      "name": "python3",
      "display_name": "Python 3"
    },
    "language_info": {
      "name": "python"
    }
  },
  "cells": [
    {
      "cell_type": "code",
      "execution_count": 49,
      "metadata": {
        "id": "bydGAVsD8OIK"
      },
      "outputs": [],
      "source": [
        "import numpy as np\n",
        "import pandas as pd\n",
        "from sklearn.impute import SimpleImputer\n",
        "from sklearn.preprocessing import StandardScaler\n",
        "from sklearn.model_selection import train_test_split\n",
        "from sklearn.linear_model import LinearRegression"
      ]
    },
    {
      "cell_type": "code",
      "source": [
        "data=pd.read_csv('/content/houses.csv')"
      ],
      "metadata": {
        "id": "OuAg8H13-9pJ"
      },
      "execution_count": 50,
      "outputs": []
    },
    {
      "cell_type": "code",
      "source": [
        "imp = SimpleImputer(missing_values=np.nan, strategy='mean')\n",
        "imp = imp.fit(data)\n",
        "data = imp.transform(data)"
      ],
      "metadata": {
        "id": "mCJs4fA0_FtL"
      },
      "execution_count": 51,
      "outputs": []
    },
    {
      "cell_type": "code",
      "source": [
        "X=data[: , :-1]"
      ],
      "metadata": {
        "id": "f6i32oqa_WKV"
      },
      "execution_count": 52,
      "outputs": []
    },
    {
      "cell_type": "code",
      "source": [
        "y=data[:,-1]"
      ],
      "metadata": {
        "id": "rBDwNhs6_0xm"
      },
      "execution_count": 53,
      "outputs": []
    },
    {
      "cell_type": "code",
      "source": [
        "X.shape"
      ],
      "metadata": {
        "colab": {
          "base_uri": "https://localhost:8080/"
        },
        "id": "Nu5_Ha3TAFk3",
        "outputId": "4fc4a681-ba08-4870-e788-c28f21f99396"
      },
      "execution_count": 54,
      "outputs": [
        {
          "output_type": "execute_result",
          "data": {
            "text/plain": [
              "(1000, 17)"
            ]
          },
          "metadata": {},
          "execution_count": 54
        }
      ]
    },
    {
      "cell_type": "code",
      "source": [
        "y.shape"
      ],
      "metadata": {
        "colab": {
          "base_uri": "https://localhost:8080/"
        },
        "id": "bRClH8V-AHjC",
        "outputId": "e8bdda3b-7e99-4e91-b199-a0c3c66aa9cc"
      },
      "execution_count": 55,
      "outputs": [
        {
          "output_type": "execute_result",
          "data": {
            "text/plain": [
              "(1000,)"
            ]
          },
          "metadata": {},
          "execution_count": 55
        }
      ]
    },
    {
      "cell_type": "code",
      "source": [
        "sc=StandardScaler()\n",
        "X = sc.fit_transform(X)"
      ],
      "metadata": {
        "id": "8WObwt9TAJkY"
      },
      "execution_count": 56,
      "outputs": []
    },
    {
      "cell_type": "code",
      "source": [
        "X_train, X_test, y_train, y_test = train_test_split(X, y, test_size=0.2, random_state=44)"
      ],
      "metadata": {
        "id": "IpTzU-bGAjDL"
      },
      "execution_count": 57,
      "outputs": []
    },
    {
      "cell_type": "code",
      "source": [
        "LinearRegressionModel = LinearRegression(fit_intercept=True, normalize=True,copy_X=True,n_jobs=-1)"
      ],
      "metadata": {
        "id": "NWCeGpYzAqLF"
      },
      "execution_count": 58,
      "outputs": []
    },
    {
      "cell_type": "code",
      "source": [
        "LinearRegressionModel.fit(X_train, y_train)"
      ],
      "metadata": {
        "colab": {
          "base_uri": "https://localhost:8080/"
        },
        "id": "oDZujWs_Avjb",
        "outputId": "aff5ca7d-04d8-47b2-f8c4-3e17bfdbb770"
      },
      "execution_count": 59,
      "outputs": [
        {
          "output_type": "stream",
          "name": "stderr",
          "text": [
            "/usr/local/lib/python3.7/dist-packages/sklearn/linear_model/_base.py:145: FutureWarning: 'normalize' was deprecated in version 1.0 and will be removed in 1.2.\n",
            "If you wish to scale the data, use Pipeline with a StandardScaler in a preprocessing stage. To reproduce the previous behavior:\n",
            "\n",
            "from sklearn.pipeline import make_pipeline\n",
            "\n",
            "model = make_pipeline(StandardScaler(with_mean=False), LinearRegression())\n",
            "\n",
            "If you wish to pass a sample_weight parameter, you need to pass it as a fit parameter to each step of the pipeline as follows:\n",
            "\n",
            "kwargs = {s[0] + '__sample_weight': sample_weight for s in model.steps}\n",
            "model.fit(X, y, **kwargs)\n",
            "\n",
            "\n",
            "  FutureWarning,\n"
          ]
        },
        {
          "output_type": "execute_result",
          "data": {
            "text/plain": [
              "LinearRegression(n_jobs=-1, normalize=True)"
            ]
          },
          "metadata": {},
          "execution_count": 59
        }
      ]
    },
    {
      "cell_type": "code",
      "source": [
        "y_pred = LinearRegressionModel.predict(X_test) "
      ],
      "metadata": {
        "id": "P8i0eDGsAywi"
      },
      "execution_count": 60,
      "outputs": []
    },
    {
      "cell_type": "code",
      "source": [
        "y_pred"
      ],
      "metadata": {
        "colab": {
          "base_uri": "https://localhost:8080/"
        },
        "id": "zQpGM_ZUA1md",
        "outputId": "163e89ad-cb47-41ce-a2b0-3a5a10e481be"
      },
      "execution_count": 61,
      "outputs": [
        {
          "output_type": "execute_result",
          "data": {
            "text/plain": [
              "array([ 26.43288521,  20.75267127,  63.34446763,  23.17809774,\n",
              "        27.76026936,  76.42627034,  30.83166852,  54.58953916,\n",
              "        39.28676203,  39.41994762,  86.20845929,  41.16081679,\n",
              "        59.54089223,  21.92786572,  68.30656446,  29.56885407,\n",
              "        21.56418688,  17.26759018,  21.48915566,  39.34623994,\n",
              "        34.32300894,  63.5640838 ,  39.94607375,  68.15587778,\n",
              "        68.19328547,  27.91368637,  44.10613902,  51.3771533 ,\n",
              "        25.33819125,  73.99294077,  82.03995755,  26.90135255,\n",
              "        40.68520595,  25.65793215,  83.9260431 ,  87.91529517,\n",
              "        84.66346932,  38.26750998,  12.46911885,  82.41466723,\n",
              "        15.6568378 ,  33.8180597 ,  58.23202448,  48.74084727,\n",
              "         3.31633814,  13.90426838,  56.52977511,  46.06281138,\n",
              "        71.78851381,  34.01461863,  72.09256895,  77.0949379 ,\n",
              "       107.04152968,  21.7095375 ,  54.82850122,  36.51944942,\n",
              "        89.60258246,  24.26663595,  42.18409906,  45.53804931,\n",
              "        79.35739467,  23.87469838,  29.21015444,  73.94236481,\n",
              "        44.9380744 ,  55.09823377,  60.56183393,  27.94548903,\n",
              "        27.59039608,  45.73743497,  34.1456101 ,  53.21383528,\n",
              "        13.04091658,  15.33980047,  20.81332124,  32.13323616,\n",
              "        79.00014997,  38.95143593,  42.05729096,  64.5429183 ,\n",
              "        38.99775006,  73.16593915,  85.336796  ,  32.039512  ,\n",
              "        56.5085503 ,  32.75933355,  27.89083793, 101.39171438,\n",
              "        29.33329246,  24.63680744,  88.99040928,  39.81010529,\n",
              "        32.16548951,  17.91354167,  78.16846268,  49.05768895,\n",
              "        27.92149504,  34.5521888 ,  59.87144512,  72.89776568,\n",
              "        76.15538277, 154.40411168,  39.93552964,  43.0619883 ,\n",
              "        55.85792812,  32.62684097,  41.36886013,  54.29158786,\n",
              "        67.10319088,  55.44249828,  45.40729384,  99.36460098,\n",
              "        35.00981819,  59.08305849,  24.2013105 ,  68.44194452,\n",
              "        35.57225944,  79.24398108, 144.12343428,  38.12256478,\n",
              "        40.62785705,  74.35527003,  91.44648898,  40.68645945,\n",
              "        69.29334563,  46.27996857,  50.65947235, 129.80012736,\n",
              "        19.64868199,  63.32246263,  16.03497936, 136.64417483,\n",
              "        87.11287518,  50.98282384,  44.47971513,  38.50331786,\n",
              "        65.97448897,  78.12321083,  30.75500012,  11.16786899,\n",
              "        45.5709801 ,  72.28749615,  76.79163375,  52.81701922,\n",
              "        60.13055555, 170.92716108,  71.0289507 ,  75.12477432,\n",
              "        19.63015678,  44.85655525,  62.71583332,  30.95513198,\n",
              "        56.81189404,  32.5126265 ,  59.62509834,  52.35675033,\n",
              "        71.59737812,  32.42574585,  38.29741408,  31.21765712,\n",
              "        37.66766028,  24.01751996,  64.73814024,  20.91784086,\n",
              "        70.24992625,  39.32404983, 113.1725777 ,  73.58556512,\n",
              "        27.76017891,  15.15773387,  39.80692807,  62.32890711,\n",
              "        20.75124761,  31.48033894,  10.07783502,  33.54106671,\n",
              "        24.29167473,  75.95320277, 112.40059902,  48.96129516,\n",
              "        33.43222309,  49.15846747,  53.19532618,  33.30763724,\n",
              "        34.25054206,  60.54498118,  75.81576574, 129.44251734,\n",
              "        36.83235349,  18.95705692,  25.97785435,  53.09396095,\n",
              "        30.73581684,  63.18733476,  53.13041563,  44.85441571,\n",
              "        36.74177914,  50.0730977 ,  55.41207681,  44.15109691])"
            ]
          },
          "metadata": {},
          "execution_count": 61
        }
      ]
    },
    {
      "cell_type": "code",
      "source": [
        "y_test"
      ],
      "metadata": {
        "colab": {
          "base_uri": "https://localhost:8080/"
        },
        "id": "YPT8oPWZA7Ey",
        "outputId": "bc3cff56-9810-450d-fa8c-0aac10fff294"
      },
      "execution_count": 62,
      "outputs": [
        {
          "output_type": "execute_result",
          "data": {
            "text/plain": [
              "array([ 17.18  ,  23.    ,  77.5   ,  24.5   ,  27.995 ,  85.66  ,\n",
              "        24.5   ,  50.    ,  45.    ,  51.2   , 112.    ,  35.9   ,\n",
              "        68.75  ,  17.    ,  41.    ,  32.    ,  18.995 ,  20.5425,\n",
              "        20.    ,  41.995 ,  34.    ,  59.25  ,  60.4   ,  45.2   ,\n",
              "        80.2541,  24.35  ,  55.07  ,  42.212 ,  24.5   ,  59.    ,\n",
              "        97.5   ,  21.    ,  21.5   ,  23.4   ,  63.    , 122.    ,\n",
              "       120.    ,  29.7   ,  24.    ,  69.6   ,  27.425 ,  20.    ,\n",
              "        58.8   ,  61.5   ,  29.9   ,  20.4   ,  60.5   ,  38.1156,\n",
              "        33.9   ,  42.5   ,  59.25  ,  71.8   ,  95.    ,  19.995 ,\n",
              "        44.5   ,  51.995 ,  78.    ,  32.25  ,  36.55  ,  30.    ,\n",
              "       127.    ,  22.19  ,  55.    ,  40.5   ,  23.2   ,  45.    ,\n",
              "        53.    ,  22.    ,  30.5   ,  38.5   ,  32.    ,  72.95  ,\n",
              "        27.85  ,  29.99  ,  31.495 ,  25.4   , 100.    ,  43.75  ,\n",
              "        46.995 ,  39.75  ,  51.65  ,  65.    ,  63.2925,  32.5   ,\n",
              "        33.    ,  41.    ,  19.    , 145.    ,  34.15  ,  26.    ,\n",
              "        78.5   ,  39.    ,  41.9   ,  21.3   ,  69.    ,  42.    ,\n",
              "        28.2   ,  37.495 ,  65.    ,  48.7   ,  53.8   , 240.    ,\n",
              "        41.    ,  58.5   ,  56.5   ,  34.5   ,  37.4   ,  27.    ,\n",
              "        52.77  ,  47.    ,  32.5   ,  92.15  ,  43.5   ,  74.8   ,\n",
              "        21.    ,  91.    ,  20.8633,  79.9   , 137.    ,  41.6   ,\n",
              "        43.7   , 130.    ,  78.4   ,  26.75  ,  65.    ,  53.5   ,\n",
              "        56.    , 110.    ,  22.3   ,  63.9   ,  28.95  ,  65.5   ,\n",
              "       125.    ,  52.9   ,  37.5   ,  52.5   ,  66.995 ,  52.    ,\n",
              "        34.7   ,  16.5   ,  40.53  ,  33.    ,  94.    ,  32.85  ,\n",
              "        36.3   , 307.    ,  48.    ,  42.875 ,  18.5   ,  88.8   ,\n",
              "        72.    ,  23.5   ,  70.    ,  25.995 ,  65.9   ,  43.1   ,\n",
              "        60.1   ,  42.5   ,  32.4   ,  41.5   ,  36.5   ,  36.    ,\n",
              "        67.15  ,  31.5   ,  58.9   ,  36.    , 107.    ,  42.5   ,\n",
              "        37.8   ,  22.5   ,  40.5   ,  71.    ,  24.5   ,  25.    ,\n",
              "        16.35  ,  34.25  ,  28.9   ,  51.75  ,  91.    ,  50.7   ,\n",
              "        38.75  ,  60.495 ,  42.3   ,  53.5   ,  36.995 ,  61.5   ,\n",
              "        83.5   , 240.    ,  31.095 ,  25.    ,  31.65  ,  40.    ,\n",
              "        28.7   ,  67.79  ,  32.5   ,  40.5   ,  39.5   ,  43.5   ,\n",
              "        46.7   ,  50.    ])"
            ]
          },
          "metadata": {},
          "execution_count": 62
        }
      ]
    },
    {
      "cell_type": "code",
      "source": [
        "LinearRegressionModel.score(X_train,y_train)"
      ],
      "metadata": {
        "colab": {
          "base_uri": "https://localhost:8080/"
        },
        "id": "xbmfueUhA_YF",
        "outputId": "a6be4756-7e64-431a-ab84-8b0616123bb4"
      },
      "execution_count": 63,
      "outputs": [
        {
          "output_type": "execute_result",
          "data": {
            "text/plain": [
              "0.7388201115326536"
            ]
          },
          "metadata": {},
          "execution_count": 63
        }
      ]
    },
    {
      "cell_type": "code",
      "source": [
        "LinearRegressionModel.score(X_test,y_test)"
      ],
      "metadata": {
        "colab": {
          "base_uri": "https://localhost:8080/"
        },
        "id": "WS5wgK04BFy3",
        "outputId": "ffe2fa7f-48ea-4448-f490-dcff7c1729fe"
      },
      "execution_count": 64,
      "outputs": [
        {
          "output_type": "execute_result",
          "data": {
            "text/plain": [
              "0.6758371943920731"
            ]
          },
          "metadata": {},
          "execution_count": 64
        }
      ]
    },
    {
      "cell_type": "code",
      "source": [
        "from sklearn.metrics import mean_absolute_error\n",
        "mean_absolute_error(y_test, y_pred)"
      ],
      "metadata": {
        "colab": {
          "base_uri": "https://localhost:8080/"
        },
        "id": "YNGckIV0BIPJ",
        "outputId": "ccfb298c-c332-44ab-f0d8-8a121068f8f3"
      },
      "execution_count": 65,
      "outputs": [
        {
          "output_type": "execute_result",
          "data": {
            "text/plain": [
              "12.923033881640922"
            ]
          },
          "metadata": {},
          "execution_count": 65
        }
      ]
    },
    {
      "cell_type": "code",
      "source": [
        "from sklearn.metrics import mean_squared_error\n",
        "mean_squared_error(y_test, y_pred)"
      ],
      "metadata": {
        "colab": {
          "base_uri": "https://localhost:8080/"
        },
        "id": "u7LahjFfBjYP",
        "outputId": "c5548f4f-84a4-4b44-f880-f156f9ee8261"
      },
      "execution_count": 66,
      "outputs": [
        {
          "output_type": "execute_result",
          "data": {
            "text/plain": [
              "436.0931180610117"
            ]
          },
          "metadata": {},
          "execution_count": 66
        }
      ]
    },
    {
      "cell_type": "code",
      "source": [
        ""
      ],
      "metadata": {
        "id": "kShfSp7vBlxw"
      },
      "execution_count": null,
      "outputs": []
    }
  ]
}