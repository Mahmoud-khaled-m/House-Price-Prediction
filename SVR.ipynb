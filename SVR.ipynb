{
  "nbformat": 4,
  "nbformat_minor": 0,
  "metadata": {
    "colab": {
      "name": "SVR.ipynb",
      "provenance": []
    },
    "kernelspec": {
      "name": "python3",
      "display_name": "Python 3"
    },
    "language_info": {
      "name": "python"
    }
  },
  "cells": [
    {
      "cell_type": "code",
      "execution_count": 9,
      "metadata": {
        "id": "UAMeVyAkDthP"
      },
      "outputs": [],
      "source": [
        "import numpy as np\n",
        "import pandas as pd\n",
        "from sklearn.impute import SimpleImputer\n",
        "from sklearn.model_selection import train_test_split\n",
        "from sklearn.metrics import mean_absolute_error \n",
        "from sklearn.metrics import mean_squared_error \n",
        "from sklearn.metrics import median_absolute_error\n",
        "from sklearn.svm import SVR\n",
        "from sklearn.preprocessing import StandardScaler"
      ]
    },
    {
      "cell_type": "code",
      "source": [
        "data=pd.read_csv('/content/houses.csv')"
      ],
      "metadata": {
        "id": "7gUneoOJEJkH"
      },
      "execution_count": 5,
      "outputs": []
    },
    {
      "cell_type": "code",
      "source": [
        "imp = SimpleImputer(missing_values=np.nan, strategy='mean')\n",
        "imp = imp.fit(data)\n",
        "data = imp.transform(data)"
      ],
      "metadata": {
        "id": "OlfTrmuCEL67"
      },
      "execution_count": 6,
      "outputs": []
    },
    {
      "cell_type": "code",
      "source": [
        "X=data[: , :-1]\n",
        "y=data[:,-1]"
      ],
      "metadata": {
        "id": "hwafI9D6EOqn"
      },
      "execution_count": 27,
      "outputs": []
    },
    {
      "cell_type": "code",
      "source": [
        "sc=StandardScaler()\n",
        "X = sc.fit_transform(X)"
      ],
      "metadata": {
        "id": "-s7SHxiaEW32"
      },
      "execution_count": 28,
      "outputs": []
    },
    {
      "cell_type": "code",
      "source": [
        "X_train, X_test, y_train, y_test = train_test_split(X, y, test_size=0.33, random_state=44)"
      ],
      "metadata": {
        "id": "jlzz5KSlEZT8"
      },
      "execution_count": 29,
      "outputs": []
    },
    {
      "cell_type": "code",
      "source": [
        "SVRModel = SVR(C = 1.0 ,epsilon=0.1,kernel = 'linear')"
      ],
      "metadata": {
        "id": "7IpMenY-EhDr"
      },
      "execution_count": 42,
      "outputs": []
    },
    {
      "cell_type": "code",
      "source": [
        "SVRModel.fit(X_train, y_train)"
      ],
      "metadata": {
        "colab": {
          "base_uri": "https://localhost:8080/"
        },
        "id": "5XOYGaBjEppp",
        "outputId": "96366e04-803e-4ee0-93e0-cfd8f327b5c9"
      },
      "execution_count": 43,
      "outputs": [
        {
          "output_type": "execute_result",
          "data": {
            "text/plain": [
              "SVR(kernel='linear')"
            ]
          },
          "metadata": {},
          "execution_count": 43
        }
      ]
    },
    {
      "cell_type": "code",
      "source": [
        "print('SVRModel Train Score is : ' , SVRModel.score(X_train, y_train))\n",
        "print('SVRModel Test Score is : ' , SVRModel.score(X_test, y_test))"
      ],
      "metadata": {
        "colab": {
          "base_uri": "https://localhost:8080/"
        },
        "id": "VrgbEJl_EtAP",
        "outputId": "db528e9f-46a4-43f2-e386-2ce5f1357080"
      },
      "execution_count": 44,
      "outputs": [
        {
          "output_type": "stream",
          "name": "stdout",
          "text": [
            "SVRModel Train Score is :  0.6870512835132847\n",
            "SVRModel Test Score is :  0.6099559041423703\n"
          ]
        }
      ]
    },
    {
      "cell_type": "code",
      "source": [
        "y_pred = SVRModel.predict(X_test)"
      ],
      "metadata": {
        "id": "wq1L43kYExkL"
      },
      "execution_count": 33,
      "outputs": []
    },
    {
      "cell_type": "code",
      "source": [
        "print('Predicted Value for SVRModel is : ' , y_pred[:10])"
      ],
      "metadata": {
        "colab": {
          "base_uri": "https://localhost:8080/"
        },
        "id": "a4AC5OYYFKtk",
        "outputId": "749b779f-612b-4145-cb48-d7dbc770baac"
      },
      "execution_count": 34,
      "outputs": [
        {
          "output_type": "stream",
          "name": "stdout",
          "text": [
            "Predicted Value for SVRModel is :  [26.46482461 20.96194998 54.63661418 26.07429111 27.28260269 70.33181062\n",
            " 34.31436313 51.37402717 44.12743913 40.8506466 ]\n"
          ]
        }
      ]
    },
    {
      "cell_type": "code",
      "source": [
        "y_test[:10]"
      ],
      "metadata": {
        "colab": {
          "base_uri": "https://localhost:8080/"
        },
        "id": "AxYcPEm7FUTO",
        "outputId": "acf03158-eefb-481a-a774-7dfd3974771a"
      },
      "execution_count": 35,
      "outputs": [
        {
          "output_type": "execute_result",
          "data": {
            "text/plain": [
              "array([17.18 , 23.   , 77.5  , 24.5  , 27.995, 85.66 , 24.5  , 50.   ,\n",
              "       45.   , 51.2  ])"
            ]
          },
          "metadata": {},
          "execution_count": 35
        }
      ]
    },
    {
      "cell_type": "code",
      "source": [
        "MAEValue = mean_absolute_error(y_test, y_pred, multioutput='uniform_average') \n",
        "print('Mean Absolute Error Value is : ', MAEValue)\n"
      ],
      "metadata": {
        "colab": {
          "base_uri": "https://localhost:8080/"
        },
        "id": "RZFNGMg3FbSn",
        "outputId": "7b85f64b-0ff8-497c-abb9-dd21b20b151a"
      },
      "execution_count": 37,
      "outputs": [
        {
          "output_type": "stream",
          "name": "stdout",
          "text": [
            "Mean Absolute Error Value is :  11.681473880814817\n"
          ]
        }
      ]
    },
    {
      "cell_type": "code",
      "source": [
        "MSEValue = mean_squared_error(y_test, y_pred, multioutput='uniform_average') \n",
        "print('Mean Squared Error Value is : ', MSEValue)"
      ],
      "metadata": {
        "colab": {
          "base_uri": "https://localhost:8080/"
        },
        "id": "Sj2UvUIwFkP5",
        "outputId": "d369cfff-de49-4f27-ce42-382d410dac3c"
      },
      "execution_count": 38,
      "outputs": [
        {
          "output_type": "stream",
          "name": "stdout",
          "text": [
            "Mean Squared Error Value is :  475.01493179357425\n"
          ]
        }
      ]
    },
    {
      "cell_type": "code",
      "source": [
        ""
      ],
      "metadata": {
        "id": "sH1-nHgrFtEy"
      },
      "execution_count": null,
      "outputs": []
    }
  ]
}